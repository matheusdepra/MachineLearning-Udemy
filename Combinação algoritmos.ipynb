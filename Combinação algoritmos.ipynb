{
 "cells": [
  {
   "cell_type": "code",
   "execution_count": 4,
   "id": "fe0cf61f",
   "metadata": {},
   "outputs": [],
   "source": [
    "import pickle\n",
    "import numpy as np"
   ]
  },
  {
   "cell_type": "code",
   "execution_count": 23,
   "id": "2df40587",
   "metadata": {},
   "outputs": [],
   "source": [
    "rede_neural = pickle.load(open('./assets/rede_neural_finalizado.sav', 'rb'))\n",
    "arvore = pickle.load(open('./assets/arvore_finalizado.sav', 'rb'))\n",
    "svm = pickle.load(open('./assets/svm_finalizado.sav', 'rb'))"
   ]
  },
  {
   "cell_type": "code",
   "execution_count": 5,
   "id": "a0b75721",
   "metadata": {},
   "outputs": [],
   "source": [
    "with open( './assets/credit.pkl', 'rb') as f:\n",
    "    X_credit_treinamento, Y_credit_treinamento,    X_credit_teste, Y_credit_teste = pickle.load(f)\n",
    "    \n",
    "with open( './assets/census.pkl', 'rb') as f:\n",
    "    X_census_treinamento, Y_census_treinamento, X_census_teste, Y_census_teste = pickle.load(f)"
   ]
  },
  {
   "cell_type": "code",
   "execution_count": 7,
   "id": "773dd733",
   "metadata": {},
   "outputs": [],
   "source": [
    "X_credit = np.concatenate((X_credit_treinamento, X_credit_teste), axis = 0)\n",
    "Y_credit = np.concatenate((Y_credit_treinamento, Y_credit_teste), axis = 0)"
   ]
  },
  {
   "cell_type": "code",
   "execution_count": null,
   "id": "c2fac345",
   "metadata": {},
   "outputs": [],
   "source": []
  },
  {
   "cell_type": "code",
   "execution_count": 8,
   "id": "b3931f8d",
   "metadata": {},
   "outputs": [
    {
     "data": {
      "text/plain": [
       "(array([[-1.3754462 ,  0.50630999,  0.10980934]]), (1, 3))"
      ]
     },
     "execution_count": 8,
     "metadata": {},
     "output_type": "execute_result"
    }
   ],
   "source": [
    "novo_registro = X_credit[0]\n",
    "novo_registro = novo_registro.reshape(1, -1)\n",
    "novo_registro, novo_registro.shape"
   ]
  },
  {
   "cell_type": "code",
   "execution_count": 9,
   "id": "99cc9fdb",
   "metadata": {},
   "outputs": [
    {
     "name": "stderr",
     "output_type": "stream",
     "text": [
      "c:\\users\\matheuan\\appdata\\local\\programs\\python\\python38\\lib\\site-packages\\sklearn\\neural_network\\_multilayer_perceptron.py:692: ConvergenceWarning: Stochastic Optimizer: Maximum iterations (200) reached and the optimization hasn't converged yet.\n",
      "  warnings.warn(\n"
     ]
    }
   ],
   "source": [
    "rede_neural = rede_neural.fit(X_credit, Y_credit)\n",
    "arvore = arvore.fit(X_credit, Y_credit)\n",
    "svm = svm.fit(X_credit, Y_credit)"
   ]
  },
  {
   "cell_type": "code",
   "execution_count": 10,
   "id": "e6b87d54",
   "metadata": {},
   "outputs": [],
   "source": [
    "resp_rede_neural = rede_neural.predict(novo_registro)\n",
    "resp_arvore = arvore.predict(novo_registro)\n",
    "resp_svm = svm.predict(novo_registro)"
   ]
  },
  {
   "cell_type": "code",
   "execution_count": 11,
   "id": "fcececc3",
   "metadata": {},
   "outputs": [
    {
     "data": {
      "text/plain": [
       "(0, 0, 0)"
      ]
     },
     "execution_count": 11,
     "metadata": {},
     "output_type": "execute_result"
    }
   ],
   "source": [
    "#Podemos comparar o resultado de cada algoritmo\n",
    "resp_rede_neural[0], resp_arvore[0], resp_svm[0]\n"
   ]
  },
  {
   "cell_type": "code",
   "execution_count": 12,
   "id": "9e1a1567",
   "metadata": {},
   "outputs": [
    {
     "name": "stdout",
     "output_type": "stream",
     "text": [
      "cliente paga\n"
     ]
    }
   ],
   "source": [
    "paga = 0\n",
    "nao_paga = 0\n",
    "\n",
    "if resp_rede_neural[0] ==1:\n",
    "    nao_paga += 1\n",
    "else:\n",
    "    paga += 1\n",
    "    \n",
    "if resp_arvore[0] ==1:\n",
    "    nao_paga += 1\n",
    "else:\n",
    "    paga += 1\n",
    "    \n",
    "if resp_svm[0] ==1:\n",
    "    nao_paga += 1\n",
    "else:\n",
    "    paga += 1\n",
    "\n",
    "    if paga > nao_paga:\n",
    "        print(\"cliente paga\")\n",
    "    elif paga == nao_paga:\n",
    "        print(\"empate\")\n",
    "    else:\n",
    "        print(\"cliente não paga\")"
   ]
  },
  {
   "cell_type": "markdown",
   "id": "2ae43956",
   "metadata": {},
   "source": [
    "    Rejeição de classificadores"
   ]
  },
  {
   "cell_type": "code",
   "execution_count": 24,
   "id": "2d8eafd8",
   "metadata": {},
   "outputs": [
    {
     "data": {
      "text/plain": [
       "(array([[-1.3754462 ,  0.50630999,  0.10980934]]), (1, 3))"
      ]
     },
     "execution_count": 24,
     "metadata": {},
     "output_type": "execute_result"
    }
   ],
   "source": [
    "novo_registro = X_credit[0]\n",
    "novo_registro = novo_registro.reshape(1, -1)\n",
    "novo_registro, novo_registro.shape"
   ]
  },
  {
   "cell_type": "code",
   "execution_count": 25,
   "id": "b1f98129",
   "metadata": {},
   "outputs": [],
   "source": [
    "resp_rede_neural = rede_neural.predict(novo_registro)\n",
    "resp_arvore = arvore.predict(novo_registro)\n",
    "resp_svm = svm.predict(novo_registro)"
   ]
  },
  {
   "cell_type": "code",
   "execution_count": 26,
   "id": "3282869c",
   "metadata": {},
   "outputs": [
    {
     "data": {
      "text/plain": [
       "array([[1.000000e+00, 4.965757e-17]])"
      ]
     },
     "execution_count": 26,
     "metadata": {},
     "output_type": "execute_result"
    }
   ],
   "source": [
    "prob_rede_neural = rede_neural.predict_proba(novo_registro)\n",
    "prob_rede_neural"
   ]
  },
  {
   "cell_type": "code",
   "execution_count": 27,
   "id": "0d7b9d8e",
   "metadata": {},
   "outputs": [
    {
     "data": {
      "text/plain": [
       "1.0"
      ]
     },
     "execution_count": 27,
     "metadata": {},
     "output_type": "execute_result"
    }
   ],
   "source": [
    "conf_rede_neural = prob_rede_neural.max()\n",
    "conf_rede_neural"
   ]
  },
  {
   "cell_type": "code",
   "execution_count": 28,
   "id": "bfeed346",
   "metadata": {},
   "outputs": [
    {
     "data": {
      "text/plain": [
       "1.0"
      ]
     },
     "execution_count": 28,
     "metadata": {},
     "output_type": "execute_result"
    }
   ],
   "source": [
    "prob_arvore = arvore.predict_proba(novo_registro)\n",
    "conf_arvore = prob_arvore.max()\n",
    "conf_arvore\n"
   ]
  },
  {
   "cell_type": "code",
   "execution_count": 29,
   "id": "653af231",
   "metadata": {},
   "outputs": [
    {
     "data": {
      "text/plain": [
       "0.9999977364176479"
      ]
     },
     "execution_count": 29,
     "metadata": {},
     "output_type": "execute_result"
    }
   ],
   "source": [
    "prob_svm = svm.predict_proba(novo_registro)\n",
    "conf_svm = prob_svm.max()\n",
    "conf_svm\n"
   ]
  },
  {
   "cell_type": "code",
   "execution_count": null,
   "id": "4c4283bc",
   "metadata": {},
   "outputs": [],
   "source": []
  },
  {
   "cell_type": "code",
   "execution_count": null,
   "id": "119bdb00",
   "metadata": {},
   "outputs": [],
   "source": []
  }
 ],
 "metadata": {
  "kernelspec": {
   "display_name": "Python 3 (ipykernel)",
   "language": "python",
   "name": "python3"
  },
  "language_info": {
   "codemirror_mode": {
    "name": "ipython",
    "version": 3
   },
   "file_extension": ".py",
   "mimetype": "text/x-python",
   "name": "python",
   "nbconvert_exporter": "python",
   "pygments_lexer": "ipython3",
   "version": "3.8.10"
  }
 },
 "nbformat": 4,
 "nbformat_minor": 5
}
