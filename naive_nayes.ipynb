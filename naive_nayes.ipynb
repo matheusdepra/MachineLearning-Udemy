{
 "cells": [
  {
   "cell_type": "code",
   "execution_count": 1,
   "id": "6a68286c",
   "metadata": {},
   "outputs": [],
   "source": [
    "import pandas as pd"
   ]
  },
  {
   "cell_type": "markdown",
   "id": "4a5339b7",
   "metadata": {},
   "source": [
    "Base risco credito"
   ]
  },
  {
   "cell_type": "code",
   "execution_count": 5,
   "id": "f0bed16f",
   "metadata": {},
   "outputs": [],
   "source": [
    "base_risco_credito = pd.read_csv('./assets/risco_credito.csv')"
   ]
  },
  {
   "cell_type": "code",
   "execution_count": 6,
   "id": "669eb3ca",
   "metadata": {},
   "outputs": [
    {
     "data": {
      "text/html": [
       "<div>\n",
       "<style scoped>\n",
       "    .dataframe tbody tr th:only-of-type {\n",
       "        vertical-align: middle;\n",
       "    }\n",
       "\n",
       "    .dataframe tbody tr th {\n",
       "        vertical-align: top;\n",
       "    }\n",
       "\n",
       "    .dataframe thead th {\n",
       "        text-align: right;\n",
       "    }\n",
       "</style>\n",
       "<table border=\"1\" class=\"dataframe\">\n",
       "  <thead>\n",
       "    <tr style=\"text-align: right;\">\n",
       "      <th></th>\n",
       "      <th>historia</th>\n",
       "      <th>divida</th>\n",
       "      <th>garantias</th>\n",
       "      <th>renda</th>\n",
       "      <th>risco</th>\n",
       "    </tr>\n",
       "  </thead>\n",
       "  <tbody>\n",
       "    <tr>\n",
       "      <th>0</th>\n",
       "      <td>ruim</td>\n",
       "      <td>alta</td>\n",
       "      <td>nenhuma</td>\n",
       "      <td>0_15</td>\n",
       "      <td>alto</td>\n",
       "    </tr>\n",
       "    <tr>\n",
       "      <th>1</th>\n",
       "      <td>desconhecida</td>\n",
       "      <td>alta</td>\n",
       "      <td>nenhuma</td>\n",
       "      <td>15_35</td>\n",
       "      <td>alto</td>\n",
       "    </tr>\n",
       "    <tr>\n",
       "      <th>2</th>\n",
       "      <td>desconhecida</td>\n",
       "      <td>baixa</td>\n",
       "      <td>nenhuma</td>\n",
       "      <td>15_35</td>\n",
       "      <td>moderado</td>\n",
       "    </tr>\n",
       "    <tr>\n",
       "      <th>3</th>\n",
       "      <td>desconhecida</td>\n",
       "      <td>baixa</td>\n",
       "      <td>nenhuma</td>\n",
       "      <td>acima_35</td>\n",
       "      <td>alto</td>\n",
       "    </tr>\n",
       "    <tr>\n",
       "      <th>4</th>\n",
       "      <td>desconhecida</td>\n",
       "      <td>baixa</td>\n",
       "      <td>nenhuma</td>\n",
       "      <td>acima_35</td>\n",
       "      <td>baixo</td>\n",
       "    </tr>\n",
       "    <tr>\n",
       "      <th>5</th>\n",
       "      <td>desconhecida</td>\n",
       "      <td>baixa</td>\n",
       "      <td>adequada</td>\n",
       "      <td>acima_35</td>\n",
       "      <td>baixo</td>\n",
       "    </tr>\n",
       "    <tr>\n",
       "      <th>6</th>\n",
       "      <td>ruim</td>\n",
       "      <td>baixa</td>\n",
       "      <td>nenhuma</td>\n",
       "      <td>0_15</td>\n",
       "      <td>alto</td>\n",
       "    </tr>\n",
       "    <tr>\n",
       "      <th>7</th>\n",
       "      <td>ruim</td>\n",
       "      <td>baixa</td>\n",
       "      <td>adequada</td>\n",
       "      <td>acima_35</td>\n",
       "      <td>moderado</td>\n",
       "    </tr>\n",
       "    <tr>\n",
       "      <th>8</th>\n",
       "      <td>boa</td>\n",
       "      <td>baixa</td>\n",
       "      <td>nenhuma</td>\n",
       "      <td>acima_35</td>\n",
       "      <td>baixo</td>\n",
       "    </tr>\n",
       "    <tr>\n",
       "      <th>9</th>\n",
       "      <td>boa</td>\n",
       "      <td>alta</td>\n",
       "      <td>adequada</td>\n",
       "      <td>acima_35</td>\n",
       "      <td>baixo</td>\n",
       "    </tr>\n",
       "    <tr>\n",
       "      <th>10</th>\n",
       "      <td>boa</td>\n",
       "      <td>alta</td>\n",
       "      <td>nenhuma</td>\n",
       "      <td>0_15</td>\n",
       "      <td>alto</td>\n",
       "    </tr>\n",
       "    <tr>\n",
       "      <th>11</th>\n",
       "      <td>boa</td>\n",
       "      <td>alta</td>\n",
       "      <td>nenhuma</td>\n",
       "      <td>15_35</td>\n",
       "      <td>moderado</td>\n",
       "    </tr>\n",
       "    <tr>\n",
       "      <th>12</th>\n",
       "      <td>boa</td>\n",
       "      <td>alta</td>\n",
       "      <td>nenhuma</td>\n",
       "      <td>acima_35</td>\n",
       "      <td>baixo</td>\n",
       "    </tr>\n",
       "    <tr>\n",
       "      <th>13</th>\n",
       "      <td>ruim</td>\n",
       "      <td>alta</td>\n",
       "      <td>nenhuma</td>\n",
       "      <td>15_35</td>\n",
       "      <td>alto</td>\n",
       "    </tr>\n",
       "  </tbody>\n",
       "</table>\n",
       "</div>"
      ],
      "text/plain": [
       "        historia divida garantias     renda     risco\n",
       "0           ruim   alta   nenhuma      0_15      alto\n",
       "1   desconhecida   alta   nenhuma     15_35      alto\n",
       "2   desconhecida  baixa   nenhuma     15_35  moderado\n",
       "3   desconhecida  baixa   nenhuma  acima_35      alto\n",
       "4   desconhecida  baixa   nenhuma  acima_35     baixo\n",
       "5   desconhecida  baixa  adequada  acima_35     baixo\n",
       "6           ruim  baixa   nenhuma      0_15      alto\n",
       "7           ruim  baixa  adequada  acima_35  moderado\n",
       "8            boa  baixa   nenhuma  acima_35     baixo\n",
       "9            boa   alta  adequada  acima_35     baixo\n",
       "10           boa   alta   nenhuma      0_15      alto\n",
       "11           boa   alta   nenhuma     15_35  moderado\n",
       "12           boa   alta   nenhuma  acima_35     baixo\n",
       "13          ruim   alta   nenhuma     15_35      alto"
      ]
     },
     "execution_count": 6,
     "metadata": {},
     "output_type": "execute_result"
    }
   ],
   "source": [
    "base_risco_credito"
   ]
  },
  {
   "cell_type": "markdown",
   "id": "f03a4192",
   "metadata": {},
   "source": [
    "Separacao previsores"
   ]
  },
  {
   "cell_type": "code",
   "execution_count": 7,
   "id": "99fa9d7c",
   "metadata": {},
   "outputs": [],
   "source": [
    "X_risco_credito = base_risco_credito.iloc[:, 0:4].values"
   ]
  },
  {
   "cell_type": "code",
   "execution_count": 8,
   "id": "5c64c91f",
   "metadata": {},
   "outputs": [],
   "source": [
    "Y_risco_credito = base_risco_credito.iloc[:, 4].values"
   ]
  },
  {
   "cell_type": "markdown",
   "id": "1da2e097",
   "metadata": {},
   "source": [
    "Conversão atributos"
   ]
  },
  {
   "cell_type": "code",
   "execution_count": 9,
   "id": "5f521f4c",
   "metadata": {},
   "outputs": [],
   "source": [
    "from sklearn.preprocessing import LabelEncoder\n",
    "label_encoder_historia = LabelEncoder()\n",
    "label_encoder_divida = LabelEncoder()\n",
    "label_encoder_garantia = LabelEncoder()\n",
    "label_encoder_renda = LabelEncoder()"
   ]
  },
  {
   "cell_type": "code",
   "execution_count": 11,
   "id": "54c2f94f",
   "metadata": {},
   "outputs": [],
   "source": [
    "X_risco_credito[:, 0] = label_encoder_historia.fit_transform(X_risco_credito[:,0])\n",
    "X_risco_credito[:, 1] = label_encoder_divida.fit_transform(X_risco_credito[:,1])\n",
    "X_risco_credito[:, 2] = label_encoder_garantia.fit_transform(X_risco_credito[:,2])\n",
    "X_risco_credito[:, 3] = label_encoder_renda.fit_transform(X_risco_credito[:,3])"
   ]
  },
  {
   "cell_type": "code",
   "execution_count": 12,
   "id": "170cc232",
   "metadata": {},
   "outputs": [
    {
     "data": {
      "text/plain": [
       "array([[2, 0, 1, 0],\n",
       "       [1, 0, 1, 1],\n",
       "       [1, 1, 1, 1],\n",
       "       [1, 1, 1, 2],\n",
       "       [1, 1, 1, 2],\n",
       "       [1, 1, 0, 2],\n",
       "       [2, 1, 1, 0],\n",
       "       [2, 1, 0, 2],\n",
       "       [0, 1, 1, 2],\n",
       "       [0, 0, 0, 2],\n",
       "       [0, 0, 1, 0],\n",
       "       [0, 0, 1, 1],\n",
       "       [0, 0, 1, 2],\n",
       "       [2, 0, 1, 1]], dtype=object)"
      ]
     },
     "execution_count": 12,
     "metadata": {},
     "output_type": "execute_result"
    }
   ],
   "source": [
    "X_risco_credito"
   ]
  },
  {
   "cell_type": "code",
   "execution_count": 14,
   "id": "adeb23e6",
   "metadata": {},
   "outputs": [],
   "source": [
    "import pickle\n",
    "with open('./assets/risco_credito.pkl', 'wb') as f:\n",
    "    pickle.dump([X_risco_credito, Y_risco_credito], f)"
   ]
  },
  {
   "cell_type": "markdown",
   "id": "99596a2a",
   "metadata": {},
   "source": [
    "Naive Bayes"
   ]
  },
  {
   "cell_type": "code",
   "execution_count": 15,
   "id": "d5a0797d",
   "metadata": {},
   "outputs": [],
   "source": [
    "from sklearn.naive_bayes import GaussianNB"
   ]
  },
  {
   "cell_type": "code",
   "execution_count": 16,
   "id": "dab03a9c",
   "metadata": {},
   "outputs": [
    {
     "data": {
      "text/plain": [
       "GaussianNB()"
      ]
     },
     "execution_count": 16,
     "metadata": {},
     "output_type": "execute_result"
    }
   ],
   "source": [
    "naive_risco_credito = GaussianNB()\n",
    "naive_risco_credito.fit(X_risco_credito, Y_risco_credito)"
   ]
  },
  {
   "cell_type": "code",
   "execution_count": 18,
   "id": "dd65eb45",
   "metadata": {},
   "outputs": [],
   "source": [
    "#historia boa (0), divida alta (0), garantias nenhuma (1), renda > 35 (2)]\n",
    "#historia ruim (2), divida alta (0), garantia adequada (0), renda < 15 (0)\n",
    "\n",
    "previsao = naive_risco_credito.predict([[0,0,1,2], [2,0,0,0]])"
   ]
  },
  {
   "cell_type": "code",
   "execution_count": 19,
   "id": "8577aad7",
   "metadata": {},
   "outputs": [
    {
     "data": {
      "text/plain": [
       "array(['baixo', 'moderado'], dtype='<U8')"
      ]
     },
     "execution_count": 19,
     "metadata": {},
     "output_type": "execute_result"
    }
   ],
   "source": [
    "previsao"
   ]
  },
  {
   "cell_type": "markdown",
   "id": "7c43c127",
   "metadata": {},
   "source": [
    "Aplicando na base credit data"
   ]
  },
  {
   "cell_type": "code",
   "execution_count": 20,
   "id": "cfc7ce33",
   "metadata": {},
   "outputs": [],
   "source": [
    "import pickle"
   ]
  },
  {
   "cell_type": "code",
   "execution_count": 22,
   "id": "1e881084",
   "metadata": {},
   "outputs": [],
   "source": [
    "with open( './assets/credit.pkl', 'rb') as f:\n",
    "    X_credit_treinamento, Y_credit_treinamento,    X_credit_teste, Y_credit_teste = pickle.load(f)"
   ]
  },
  {
   "cell_type": "code",
   "execution_count": 24,
   "id": "077825b8",
   "metadata": {},
   "outputs": [
    {
     "data": {
      "text/plain": [
       "((1500, 3), (1500,))"
      ]
     },
     "execution_count": 24,
     "metadata": {},
     "output_type": "execute_result"
    }
   ],
   "source": [
    "X_credit_treinamento.shape, Y_credit_treinamento.shape"
   ]
  },
  {
   "cell_type": "code",
   "execution_count": 25,
   "id": "85819819",
   "metadata": {},
   "outputs": [
    {
     "data": {
      "text/plain": [
       "((500, 3), (500,))"
      ]
     },
     "execution_count": 25,
     "metadata": {},
     "output_type": "execute_result"
    }
   ],
   "source": [
    "X_credit_teste.shape, Y_credit_teste.shape"
   ]
  },
  {
   "cell_type": "code",
   "execution_count": 26,
   "id": "656f7f5e",
   "metadata": {},
   "outputs": [
    {
     "data": {
      "text/plain": [
       "GaussianNB()"
      ]
     },
     "execution_count": 26,
     "metadata": {},
     "output_type": "execute_result"
    }
   ],
   "source": [
    "naive_credit_data = GaussianNB()\n",
    "naive_credit_data.fit(X_credit_treinamento, Y_credit_treinamento)"
   ]
  },
  {
   "cell_type": "code",
   "execution_count": 28,
   "id": "288e59e8",
   "metadata": {},
   "outputs": [],
   "source": [
    "previsoes = naive_credit_data.predict(X_credit_teste)"
   ]
  },
  {
   "cell_type": "code",
   "execution_count": 29,
   "id": "8f18a92e",
   "metadata": {
    "scrolled": false
   },
   "outputs": [
    {
     "data": {
      "text/plain": [
       "array([1, 0, 0, 0, 0, 0, 0, 0, 0, 0, 0, 0, 0, 0, 0, 0, 1, 0, 0, 1, 0, 0,\n",
       "       0, 0, 0, 0, 0, 0, 0, 0, 0, 0, 0, 0, 0, 1, 1, 0, 0, 0, 0, 0, 0, 0,\n",
       "       0, 1, 1, 0, 1, 0, 0, 0, 0, 0, 0, 0, 0, 0, 0, 1, 0, 0, 0, 1, 0, 0,\n",
       "       0, 0, 0, 1, 0, 0, 1, 0, 0, 1, 0, 0, 0, 0, 0, 0, 0, 0, 0, 0, 0, 0,\n",
       "       0, 0, 0, 0, 0, 0, 0, 0, 0, 0, 0, 0, 0, 0, 0, 1, 0, 0, 0, 0, 0, 0,\n",
       "       0, 0, 1, 0, 0, 0, 0, 0, 0, 0, 1, 1, 0, 0, 0, 0, 0, 0, 0, 0, 0, 1,\n",
       "       0, 0, 0, 0, 0, 0, 0, 0, 0, 0, 0, 0, 1, 0, 1, 0, 0, 0, 0, 0, 1, 0,\n",
       "       0, 0, 0, 0, 0, 1, 0, 0, 0, 0, 0, 0, 0, 0, 0, 0, 0, 0, 0, 0, 0, 0,\n",
       "       0, 1, 0, 0, 0, 0, 0, 1, 0, 0, 0, 0, 1, 0, 0, 0, 1, 0, 0, 0, 0, 0,\n",
       "       0, 0, 0, 0, 0, 0, 0, 0, 1, 1, 0, 0, 0, 0, 0, 0, 0, 0, 0, 0, 0, 0,\n",
       "       1, 0, 0, 0, 0, 0, 0, 0, 0, 1, 0, 0, 0, 0, 0, 0, 0, 0, 0, 0, 0, 0,\n",
       "       0, 0, 0, 0, 0, 0, 0, 0, 0, 0, 0, 0, 0, 0, 0, 0, 1, 0, 1, 0, 0, 0,\n",
       "       0, 0, 0, 0, 0, 0, 0, 0, 0, 1, 0, 0, 0, 0, 0, 0, 0, 0, 0, 0, 0, 0,\n",
       "       0, 0, 0, 0, 0, 0, 0, 0, 0, 0, 1, 0, 0, 0, 0, 0, 0, 0, 1, 0, 0, 0,\n",
       "       0, 0, 0, 1, 0, 0, 0, 1, 0, 0, 0, 0, 0, 1, 0, 0, 0, 0, 0, 1, 0, 0,\n",
       "       0, 0, 0, 0, 0, 0, 0, 0, 0, 0, 0, 0, 1, 0, 0, 0, 0, 0, 0, 1, 0, 0,\n",
       "       0, 0, 0, 1, 0, 0, 0, 0, 0, 0, 0, 0, 0, 0, 0, 0, 0, 0, 0, 0, 0, 0,\n",
       "       1, 0, 0, 0, 0, 0, 0, 0, 0, 0, 0, 0, 0, 0, 0, 0, 0, 0, 0, 0, 0, 1,\n",
       "       0, 0, 0, 0, 0, 0, 0, 0, 0, 0, 0, 0, 0, 0, 0, 0, 0, 0, 0, 0, 0, 0,\n",
       "       0, 0, 0, 0, 0, 0, 0, 0, 0, 0, 0, 0, 0, 1, 0, 0, 0, 0, 0, 0, 0, 0,\n",
       "       0, 0, 0, 0, 1, 0, 1, 0, 0, 0, 0, 0, 0, 0, 0, 0, 0, 0, 0, 0, 0, 0,\n",
       "       0, 0, 1, 0, 0, 0, 0, 0, 0, 0, 0, 0, 0, 0, 0, 0, 0, 0, 0, 0, 0, 0,\n",
       "       0, 0, 1, 0, 0, 0, 0, 0, 0, 0, 0, 0, 0, 0, 0, 0])"
      ]
     },
     "execution_count": 29,
     "metadata": {},
     "output_type": "execute_result"
    }
   ],
   "source": [
    "previsoes"
   ]
  },
  {
   "cell_type": "code",
   "execution_count": 30,
   "id": "039fceb8",
   "metadata": {
    "scrolled": false
   },
   "outputs": [
    {
     "data": {
      "text/plain": [
       "array([1, 0, 0, 0, 0, 0, 0, 0, 0, 0, 0, 0, 0, 0, 0, 0, 1, 0, 0, 1, 0, 0,\n",
       "       0, 0, 0, 0, 0, 0, 0, 0, 0, 0, 0, 0, 0, 1, 1, 0, 0, 0, 0, 0, 0, 0,\n",
       "       0, 1, 1, 0, 1, 0, 0, 0, 0, 0, 0, 0, 0, 0, 0, 1, 0, 0, 0, 1, 0, 0,\n",
       "       0, 0, 0, 1, 0, 0, 1, 0, 0, 1, 0, 0, 1, 0, 0, 0, 0, 0, 0, 0, 1, 0,\n",
       "       0, 0, 0, 0, 0, 0, 0, 0, 0, 0, 0, 0, 0, 0, 0, 1, 0, 0, 0, 0, 0, 1,\n",
       "       0, 0, 1, 0, 0, 0, 0, 0, 0, 0, 0, 0, 0, 0, 0, 0, 0, 0, 0, 0, 0, 1,\n",
       "       0, 0, 0, 0, 0, 0, 0, 0, 0, 0, 0, 0, 1, 0, 0, 0, 0, 0, 0, 0, 1, 0,\n",
       "       0, 0, 0, 0, 0, 0, 0, 0, 0, 0, 0, 1, 0, 0, 0, 1, 0, 0, 0, 0, 0, 0,\n",
       "       0, 1, 0, 0, 0, 0, 0, 1, 0, 0, 0, 1, 1, 0, 0, 0, 1, 0, 0, 0, 0, 0,\n",
       "       0, 0, 0, 0, 0, 0, 0, 0, 1, 1, 0, 1, 0, 0, 0, 0, 0, 0, 0, 0, 0, 0,\n",
       "       1, 0, 0, 0, 0, 0, 0, 0, 0, 1, 0, 0, 0, 0, 0, 0, 0, 0, 0, 0, 0, 0,\n",
       "       0, 1, 1, 0, 1, 1, 0, 0, 0, 0, 0, 0, 0, 0, 0, 0, 1, 0, 1, 0, 0, 0,\n",
       "       0, 0, 0, 0, 0, 0, 0, 0, 0, 0, 0, 0, 0, 0, 0, 0, 0, 0, 0, 0, 0, 0,\n",
       "       0, 0, 0, 0, 0, 0, 0, 0, 0, 0, 1, 0, 0, 0, 0, 0, 0, 0, 1, 0, 0, 0,\n",
       "       0, 0, 1, 1, 0, 0, 0, 1, 0, 0, 0, 0, 0, 1, 0, 0, 0, 0, 0, 1, 0, 0,\n",
       "       0, 0, 0, 0, 0, 1, 0, 0, 0, 0, 0, 0, 1, 0, 0, 0, 0, 0, 0, 1, 0, 0,\n",
       "       0, 0, 0, 1, 0, 0, 0, 0, 0, 0, 0, 0, 0, 0, 0, 0, 0, 0, 0, 0, 0, 0,\n",
       "       0, 0, 0, 0, 1, 0, 0, 0, 0, 0, 0, 0, 1, 0, 0, 0, 0, 0, 0, 0, 0, 0,\n",
       "       0, 0, 0, 0, 1, 0, 0, 0, 0, 0, 0, 0, 0, 0, 1, 0, 0, 0, 0, 0, 0, 0,\n",
       "       0, 0, 0, 0, 0, 0, 0, 0, 0, 0, 0, 0, 0, 1, 0, 0, 0, 0, 0, 0, 0, 0,\n",
       "       0, 1, 0, 0, 1, 0, 0, 0, 0, 0, 0, 0, 1, 0, 0, 0, 0, 0, 0, 0, 0, 0,\n",
       "       0, 0, 1, 0, 0, 0, 0, 0, 0, 0, 0, 0, 0, 0, 0, 1, 0, 0, 0, 0, 0, 0,\n",
       "       0, 0, 1, 0, 0, 0, 1, 0, 0, 0, 0, 0, 0, 0, 1, 1])"
      ]
     },
     "execution_count": 30,
     "metadata": {},
     "output_type": "execute_result"
    }
   ],
   "source": [
    "Y_credit_teste"
   ]
  },
  {
   "cell_type": "code",
   "execution_count": 38,
   "id": "c2f25954",
   "metadata": {},
   "outputs": [],
   "source": [
    "#Comparar real x previsao\n",
    "from sklearn.metrics import accuracy_score, confusion_matrix, classification_report"
   ]
  },
  {
   "cell_type": "code",
   "execution_count": 33,
   "id": "020ea7aa",
   "metadata": {},
   "outputs": [
    {
     "data": {
      "text/plain": [
       "0.938"
      ]
     },
     "execution_count": 33,
     "metadata": {},
     "output_type": "execute_result"
    }
   ],
   "source": [
    "accuracy_score(Y_credit_teste, previsoes)"
   ]
  },
  {
   "cell_type": "code",
   "execution_count": 35,
   "id": "72376e08",
   "metadata": {},
   "outputs": [
    {
     "data": {
      "text/plain": [
       "array([[428,   8],\n",
       "       [ 23,  41]])"
      ]
     },
     "execution_count": 35,
     "metadata": {},
     "output_type": "execute_result"
    }
   ],
   "source": [
    "confusion_matrix(Y_credit_teste, previsoes)"
   ]
  },
  {
   "cell_type": "code",
   "execution_count": 36,
   "id": "4170462d",
   "metadata": {},
   "outputs": [],
   "source": [
    "from yellowbrick.classifier import ConfusionMatrix"
   ]
  },
  {
   "cell_type": "code",
   "execution_count": 37,
   "id": "0e10fd35",
   "metadata": {},
   "outputs": [
    {
     "data": {
      "text/plain": [
       "0.938"
      ]
     },
     "execution_count": 37,
     "metadata": {},
     "output_type": "execute_result"
    },
    {
     "data": {
      "image/png": "[encoded data removed]",
      "text/plain": [
       "<Figure size 576x396 with 1 Axes>"
      ]
     },
     "metadata": {},
     "output_type": "display_data"
    }
   ],
   "source": [
    "cm = ConfusionMatrix(naive_credit_data)\n",
    "cm.fit(X_credit_treinamento, Y_credit_treinamento)\n",
    "cm.score(X_credit_teste, Y_credit_teste)"
   ]
  },
  {
   "cell_type": "code",
   "execution_count": 40,
   "id": "486b28bc",
   "metadata": {},
   "outputs": [
    {
     "name": "stdout",
     "output_type": "stream",
     "text": [
      "              precision    recall  f1-score   support\n",
      "\n",
      "           0       0.95      0.98      0.97       436\n",
      "           1       0.84      0.64      0.73        64\n",
      "\n",
      "    accuracy                           0.94       500\n",
      "   macro avg       0.89      0.81      0.85       500\n",
      "weighted avg       0.93      0.94      0.93       500\n",
      "\n"
     ]
    }
   ],
   "source": [
    "print(classification_report(Y_credit_teste, previsoes))"
   ]
  },
  {
   "cell_type": "markdown",
   "id": "d4dee60d",
   "metadata": {},
   "source": [
    "    Base census"
   ]
  },
  {
   "cell_type": "code",
   "execution_count": 41,
   "id": "a34fe0c0",
   "metadata": {},
   "outputs": [],
   "source": [
    "with open( './assets/census.pkl', 'rb') as f:\n",
    "    X_census_treinamento, Y_census_treinamento, X_census_teste, Y_census_teste = pickle.load(f)"
   ]
  },
  {
   "cell_type": "code",
   "execution_count": 42,
   "id": "f6e1fd8e",
   "metadata": {},
   "outputs": [
    {
     "data": {
      "text/plain": [
       "((27676, 108), (27676,))"
      ]
     },
     "execution_count": 42,
     "metadata": {},
     "output_type": "execute_result"
    }
   ],
   "source": [
    "X_census_treinamento.shape, Y_census_treinamento.shape"
   ]
  },
  {
   "cell_type": "code",
   "execution_count": 43,
   "id": "2d508e30",
   "metadata": {},
   "outputs": [
    {
     "data": {
      "text/plain": [
       "((4885, 108), (4885,))"
      ]
     },
     "execution_count": 43,
     "metadata": {},
     "output_type": "execute_result"
    }
   ],
   "source": [
    "X_census_teste.shape, Y_census_teste.shape"
   ]
  },
  {
   "cell_type": "code",
   "execution_count": 44,
   "id": "3b006e06",
   "metadata": {},
   "outputs": [
    {
     "data": {
      "text/plain": [
       "GaussianNB()"
      ]
     },
     "execution_count": 44,
     "metadata": {},
     "output_type": "execute_result"
    }
   ],
   "source": [
    "naive_census_data = GaussianNB()\n",
    "naive_census_data.fit(X_census_treinamento, Y_census_treinamento)"
   ]
  },
  {
   "cell_type": "code",
   "execution_count": 45,
   "id": "b1391f99",
   "metadata": {},
   "outputs": [],
   "source": [
    "previsoes_census = naive_census_data.predict(X_census_teste)"
   ]
  },
  {
   "cell_type": "code",
   "execution_count": 46,
   "id": "916ce01f",
   "metadata": {},
   "outputs": [
    {
     "data": {
      "text/plain": [
       "array([' >50K', ' >50K', ' >50K', ..., ' <=50K', ' >50K', ' >50K'],\n",
       "      dtype='<U6')"
      ]
     },
     "execution_count": 46,
     "metadata": {},
     "output_type": "execute_result"
    }
   ],
   "source": [
    "previsoes_census"
   ]
  },
  {
   "cell_type": "code",
   "execution_count": 47,
   "id": "553372fb",
   "metadata": {},
   "outputs": [
    {
     "data": {
      "text/plain": [
       "array([' <=50K', ' <=50K', ' <=50K', ..., ' <=50K', ' <=50K', ' <=50K'],\n",
       "      dtype=object)"
      ]
     },
     "execution_count": 47,
     "metadata": {},
     "output_type": "execute_result"
    }
   ],
   "source": [
    "Y_census_teste"
   ]
  },
  {
   "cell_type": "code",
   "execution_count": 48,
   "id": "fcb7047d",
   "metadata": {},
   "outputs": [
    {
     "data": {
      "text/plain": [
       "0.4767656090071648"
      ]
     },
     "execution_count": 48,
     "metadata": {},
     "output_type": "execute_result"
    }
   ],
   "source": [
    "accuracy_score(Y_census_teste, previsoes_census) #sem escalonamento melhora"
   ]
  },
  {
   "cell_type": "code",
   "execution_count": 49,
   "id": "7df9a5d1",
   "metadata": {},
   "outputs": [
    {
     "data": {
      "text/plain": [
       "array([[1172, 2521],\n",
       "       [  35, 1157]])"
      ]
     },
     "execution_count": 49,
     "metadata": {},
     "output_type": "execute_result"
    }
   ],
   "source": [
    "confusion_matrix(Y_census_teste, previsoes_census)"
   ]
  },
  {
   "cell_type": "code",
   "execution_count": 52,
   "id": "1ca7ca7c",
   "metadata": {},
   "outputs": [
    {
     "data": {
      "text/plain": [
       "0.4767656090071648"
      ]
     },
     "execution_count": 52,
     "metadata": {},
     "output_type": "execute_result"
    },
    {
     "data": {
      "image/png": "[encoded data removed]",
      "text/plain": [
       "<Figure size 576x396 with 1 Axes>"
      ]
     },
     "metadata": {},
     "output_type": "display_data"
    }
   ],
   "source": [
    "cm = ConfusionMatrix(naive_census_data)\n",
    "cm.fit(X_census_treinamento, Y_census_treinamento)\n",
    "cm.score(X_census_teste, Y_census_teste)"
   ]
  },
  {
   "cell_type": "code",
   "execution_count": 53,
   "id": "7d568268",
   "metadata": {},
   "outputs": [
    {
     "name": "stdout",
     "output_type": "stream",
     "text": [
      "              precision    recall  f1-score   support\n",
      "\n",
      "       <=50K       0.97      0.32      0.48      3693\n",
      "        >50K       0.31      0.97      0.48      1192\n",
      "\n",
      "    accuracy                           0.48      4885\n",
      "   macro avg       0.64      0.64      0.48      4885\n",
      "weighted avg       0.81      0.48      0.48      4885\n",
      "\n"
     ]
    }
   ],
   "source": [
    "print(classification_report(Y_census_teste, previsoes_census))"
   ]
  },
  {
   "cell_type": "code",
   "execution_count": null,
   "id": "3b1007b3",
   "metadata": {},
   "outputs": [],
   "source": []
  },
  {
   "cell_type": "code",
   "execution_count": null,
   "id": "a41e549a",
   "metadata": {},
   "outputs": [],
   "source": []
  },
  {
   "cell_type": "code",
   "execution_count": null,
   "id": "4b66aa02",
   "metadata": {},
   "outputs": [],
   "source": []
  },
  {
   "cell_type": "code",
   "execution_count": null,
   "id": "cfbf65d4",
   "metadata": {},
   "outputs": [],
   "source": []
  }
 ],
 "metadata": {
  "kernelspec": {
   "display_name": "Python 3 (ipykernel)",
   "language": "python",
   "name": "python3"
  },
  "language_info": {
   "codemirror_mode": {
    "name": "ipython",
    "version": 3
   },
   "file_extension": ".py",
   "mimetype": "text/x-python",
   "name": "python",
   "nbconvert_exporter": "python",
   "pygments_lexer": "ipython3",
   "version": "3.8.10"
  }
 },
 "nbformat": 4,
 "nbformat_minor": 5
}
