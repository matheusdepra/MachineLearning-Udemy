{
 "cells": [
  {
   "cell_type": "code",
   "execution_count": 1,
   "id": "3ef3ca23",
   "metadata": {},
   "outputs": [],
   "source": []
  },
  {
   "cell_type": "code",
   "execution_count": 2,
   "id": "e0761854",
   "metadata": {},
   "outputs": [],
   "source": [
    "X_credit = np.concatenate((X_credit_treinamento, X_credit_teste), axis = 0)\n",
    "Y_credit = np.concatenate((Y_credit_treinamento, Y_credit_teste), axis = 0)"
   ]
  },
  {
   "cell_type": "code",
   "execution_count": 3,
   "id": "5fc2068f",
   "metadata": {},
   "outputs": [],
   "source": [
    "from sklearn.neural_network import MLPClassifier\n",
    "from sklearn.tree import DecisionTreeClassifier\n",
    "from sklearn.svm import SVC"
   ]
  },
  {
   "cell_type": "code",
   "execution_count": 4,
   "id": "66e0fa58",
   "metadata": {},
   "outputs": [
    {
     "name": "stderr",
     "output_type": "stream",
     "text": [
      "c:\\users\\matheuan\\appdata\\local\\programs\\python\\python38\\lib\\site-packages\\sklearn\\neural_network\\_multilayer_perceptron.py:692: ConvergenceWarning: Stochastic Optimizer: Maximum iterations (200) reached and the optimization hasn't converged yet.\n",
      "  warnings.warn(\n"
     ]
    },
    {
     "data": {
      "text/plain": [
       "MLPClassifier(batch_size=56)"
      ]
     },
     "execution_count": 4,
     "metadata": {},
     "output_type": "execute_result"
    }
   ],
   "source": [
    "classificador_rede_neural = MLPClassifier(activation='relu', batch_size=56, solver='adam')\n",
    "classificador_rede_neural.fit(X_credit, Y_credit)"
   ]
  },
  {
   "cell_type": "code",
   "execution_count": 6,
   "id": "03281bdd",
   "metadata": {},
   "outputs": [
    {
     "data": {
      "text/plain": [
       "DecisionTreeClassifier(criterion='entropy', min_samples_split=5)"
      ]
     },
     "execution_count": 6,
     "metadata": {},
     "output_type": "execute_result"
    }
   ],
   "source": [
    "classificador_arvore = DecisionTreeClassifier(criterion='entropy', min_samples_leaf=1, min_samples_split=5, splitter='best')\n",
    "classificador_arvore.fit(X_credit, Y_credit)"
   ]
  },
  {
   "cell_type": "code",
   "execution_count": 8,
   "id": "32f52c40",
   "metadata": {
    "scrolled": true
   },
   "outputs": [
    {
     "data": {
      "text/plain": [
       "SVC(C=2.0)"
      ]
     },
     "execution_count": 8,
     "metadata": {},
     "output_type": "execute_result"
    }
   ],
   "source": [
    "classificador_svm = SVC(C=2.0, kernel='rbf')\n",
    "classificador_svm.fit(X_credit, Y_credit)"
   ]
  },
  {
   "cell_type": "code",
   "execution_count": 9,
   "id": "48d9b6f2",
   "metadata": {},
   "outputs": [],
   "source": [
    "pickle.dump(classificador_rede_neural, open('./assets/rede_neural_finalizado.sav', 'wb'))\n",
    "pickle.dump(classificador_arvore, open('./assets/arvore_finalizado.sav', 'wb'))\n",
    "pickle.dump(classificador_svm, open('./assets/svm_finalizado.sav', 'wb'))"
   ]
  },
  {
   "cell_type": "markdown",
   "id": "43fd824d",
   "metadata": {},
   "source": [
    "    Carregar classificador"
   ]
  },
  {
   "cell_type": "code",
   "execution_count": 12,
   "id": "db0fa5de",
   "metadata": {},
   "outputs": [],
   "source": [
    "rede_neural = pickle.load(open('./assets/rede_neural_finalizado.sav', 'rb'))\n",
    "arvore = pickle.load(open('./assets/arvore_finalizado.sav', 'rb'))\n",
    "svm = pickle.load(open('./assets/svm_finalizado.sav', 'rb'))"
   ]
  },
  {
   "cell_type": "code",
   "execution_count": null,
   "id": "717c5df8",
   "metadata": {},
   "outputs": [],
   "source": []
  },
  {
   "cell_type": "code",
   "execution_count": null,
   "id": "35f1a6ae",
   "metadata": {},
   "outputs": [],
   "source": []
  }
 ],
 "metadata": {
  "kernelspec": {
   "display_name": "Python 3 (ipykernel)",
   "language": "python",
   "name": "python3"
  },
  "language_info": {
   "codemirror_mode": {
    "name": "ipython",
    "version": 3
   },
   "file_extension": ".py",
   "mimetype": "text/x-python",
   "name": "python",
   "nbconvert_exporter": "python",
   "pygments_lexer": "ipython3",
   "version": "3.8.10"
  }
 },
 "nbformat": 4,
 "nbformat_minor": 5
}
