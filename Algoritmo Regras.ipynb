{
 "cells": [
  {
   "cell_type": "markdown",
   "id": "437b130b",
   "metadata": {},
   "source": [
    "    Algoritmo de regras"
   ]
  },
  {
   "cell_type": "markdown",
   "id": "e70afc6f",
   "metadata": {},
   "source": [
    "    Base Risco de Crédito"
   ]
  },
  {
   "cell_type": "code",
   "execution_count": 2,
   "id": "ca5c4178",
   "metadata": {},
   "outputs": [],
   "source": [
    "import Orange"
   ]
  },
  {
   "cell_type": "code",
   "execution_count": 6,
   "id": "c015cfa2",
   "metadata": {},
   "outputs": [
    {
     "data": {
      "text/plain": [
       "[[ruim, alta, nenhuma, 0_15 | alto],\n",
       " [desconhecida, alta, nenhuma, 15_35 | alto],\n",
       " [desconhecida, baixa, nenhuma, 15_35 | moderado],\n",
       " [desconhecida, baixa, nenhuma, acima_35 | alto],\n",
       " [desconhecida, baixa, nenhuma, acima_35 | baixo],\n",
       " ...\n",
       "]"
      ]
     },
     "execution_count": 6,
     "metadata": {},
     "output_type": "execute_result"
    }
   ],
   "source": [
    "base_risco_credito = Orange.data.Table('./assets/risco_credito_regras.csv')\n",
    "base_risco_credito"
   ]
  },
  {
   "cell_type": "code",
   "execution_count": 7,
   "id": "413eaf19",
   "metadata": {},
   "outputs": [
    {
     "data": {
      "text/plain": [
       "[historia, divida, garantias, renda | risco]"
      ]
     },
     "execution_count": 7,
     "metadata": {},
     "output_type": "execute_result"
    }
   ],
   "source": [
    "base_risco_credito.domain"
   ]
  },
  {
   "cell_type": "code",
   "execution_count": 9,
   "id": "98d42f65",
   "metadata": {},
   "outputs": [],
   "source": [
    "cn2 = Orange.classification.rules.CN2Learner()\n",
    "regras_risco_credito = cn2(base_risco_credito)"
   ]
  },
  {
   "cell_type": "code",
   "execution_count": 10,
   "id": "23edb128",
   "metadata": {},
   "outputs": [
    {
     "name": "stdout",
     "output_type": "stream",
     "text": [
      "IF renda==0_15 THEN risco=alto \n",
      "IF historia==boa AND divida!=alta THEN risco=baixo \n",
      "IF historia==boa AND garantias!=nenhuma THEN risco=baixo \n",
      "IF historia==boa AND renda!=15_35 THEN risco=baixo \n",
      "IF historia==boa THEN risco=moderado \n",
      "IF divida==alta THEN risco=alto \n",
      "IF historia!=desconhecida THEN risco=moderado \n",
      "IF garantias==adequada THEN risco=baixo \n",
      "IF renda==15_35 THEN risco=moderado \n",
      "IF historia==desconhecida THEN risco=baixo \n",
      "IF TRUE THEN risco=alto \n"
     ]
    }
   ],
   "source": [
    "for regras in regras_risco_credito.rule_list:\n",
    "    print(regras)"
   ]
  },
  {
   "cell_type": "code",
   "execution_count": 12,
   "id": "3ebcb6ed",
   "metadata": {},
   "outputs": [
    {
     "data": {
      "text/plain": [
       "array([1, 0])"
      ]
     },
     "execution_count": 12,
     "metadata": {},
     "output_type": "execute_result"
    }
   ],
   "source": [
    "#historia boa (0), divida alta (0), garantias nenhuma (1), renda > 35 (2)]\n",
    "#historia ruim (2), divida alta (0), garantia adequada (0), renda < 15 (0)\n",
    "previsoes = regras_risco_credito([['boa', 'alta', 'nenhuma', 'acima_35'], ['ruim', 'alta', 'adequada', '0_15']])\n",
    "previsoes"
   ]
  },
  {
   "cell_type": "code",
   "execution_count": 15,
   "id": "9c5eec1a",
   "metadata": {},
   "outputs": [
    {
     "data": {
      "text/plain": [
       "('alto', 'baixo', 'moderado')"
      ]
     },
     "execution_count": 15,
     "metadata": {},
     "output_type": "execute_result"
    }
   ],
   "source": [
    "base_risco_credito.domain.class_var.values"
   ]
  },
  {
   "cell_type": "code",
   "execution_count": 17,
   "id": "ad8e7c3a",
   "metadata": {},
   "outputs": [
    {
     "name": "stdout",
     "output_type": "stream",
     "text": [
      "baixo\n",
      "alto\n"
     ]
    }
   ],
   "source": [
    "for i in previsoes:\n",
    "    #print(i)\n",
    "    print(base_risco_credito.domain.class_var.values[i])"
   ]
  },
  {
   "cell_type": "markdown",
   "id": "71ad9abf",
   "metadata": {},
   "source": [
    "    Base credit data"
   ]
  },
  {
   "cell_type": "code",
   "execution_count": 3,
   "id": "65ce3815",
   "metadata": {},
   "outputs": [],
   "source": [
    "base_credit = Orange.data.Table('./assets/credit_data_regras.csv')"
   ]
  },
  {
   "cell_type": "code",
   "execution_count": 19,
   "id": "e01ae736",
   "metadata": {},
   "outputs": [
    {
     "data": {
      "text/plain": [
       "[income, age, loan | default]"
      ]
     },
     "execution_count": 19,
     "metadata": {},
     "output_type": "execute_result"
    }
   ],
   "source": [
    "base_credit.domain"
   ]
  },
  {
   "cell_type": "code",
   "execution_count": 20,
   "id": "a9313036",
   "metadata": {},
   "outputs": [],
   "source": [
    "base_dividida = Orange.evaluation.testing.sample(base_credit, n=0.25)"
   ]
  },
  {
   "cell_type": "code",
   "execution_count": 21,
   "id": "eb94b3c8",
   "metadata": {},
   "outputs": [
    {
     "data": {
      "text/plain": [
       "([[67802.7, 49.038, 13443.5 | 0],\n",
       "  [46166.2, 25.9961, 901.753 | 0],\n",
       "  [54077.8, 57.1207, 7149.07 | 0],\n",
       "  [20146, 21.2828, 839.839 | 0],\n",
       "  [51733.3, 24.915, 7906.14 | 1],\n",
       "  ...\n",
       " ],\n",
       " [[32804.9, 62.2944, 4961.26 | 0],\n",
       "  [44488.2, 33.4312, 2751.09 | 0],\n",
       "  [60103, 56.0538, 2632.27 | 0],\n",
       "  [66370.7, 38.4055, 5906.03 | 0],\n",
       "  [45540.3, 59.3181, 1490.47 | 0],\n",
       "  ...\n",
       " ])"
      ]
     },
     "execution_count": 21,
     "metadata": {},
     "output_type": "execute_result"
    }
   ],
   "source": [
    "base_dividida"
   ]
  },
  {
   "cell_type": "code",
   "execution_count": 22,
   "id": "e0e84091",
   "metadata": {},
   "outputs": [],
   "source": [
    "base_treinamento = base_dividida[1]\n",
    "base_teste = base_dividida[0]"
   ]
  },
  {
   "cell_type": "code",
   "execution_count": 23,
   "id": "c7d96439",
   "metadata": {},
   "outputs": [],
   "source": [
    "regras_credit = cn2(base_treinamento)"
   ]
  },
  {
   "cell_type": "code",
   "execution_count": 24,
   "id": "f884f77c",
   "metadata": {},
   "outputs": [
    {
     "name": "stdout",
     "output_type": "stream",
     "text": [
      "IF age>=34.9966813726351 THEN default=0 \n",
      "IF loan<=2495.13299137587 AND income>=20568.891305010802 THEN default=0 \n",
      "IF loan>=8045.4409532236705 THEN default=1 \n",
      "IF income>=58132.4712652713 AND age>=22.939635145478 THEN default=0 \n",
      "IF income>=58609.13148382679 AND age>=22.918212262913602 THEN default=1 \n",
      "IF income>=58609.13148382679 THEN default=0 \n",
      "IF loan>=5862.83302915672 AND age>=26.854012909811 THEN default=1 \n",
      "IF loan>=6361.97343810153 THEN default=1 \n",
      "IF income<=31722.7309499867 AND loan>=3343.81635769923 THEN default=1 \n",
      "IF income>=50360.6787929311 THEN default=0 \n",
      "IF income<=22089.8374845274 AND age>=21.3656869572587 THEN default=1 \n",
      "IF loan<=5416.3577980789005 AND income>=44299.3717431091 THEN default=0 \n",
      "IF loan<=4849.33378471958 AND income>=38129.754869733 THEN default=0 \n",
      "IF age>=34.7410444347188 THEN default=0 \n",
      "IF age>=34.669146894011604 THEN default=1 \n",
      "IF age>=34.1016539284028 THEN default=0 \n",
      "IF age>=33.6895613595843 THEN default=1 \n",
      "IF loan>=4285.38691174949 AND income>=50289.66474812481 THEN default=1 \n",
      "IF income>=48552.843409124805 THEN default=0 \n",
      "IF income>=38011.7266485468 THEN default=1 \n",
      "IF income>=37162.8882177174 THEN default=0 \n",
      "IF income>=36680.1819228567 THEN default=1 \n",
      "IF income>=36008.3809983917 THEN default=0 \n",
      "IF income>=35778.6152325571 THEN default=1 \n",
      "IF income>=34559.907035436496 THEN default=0 \n",
      "IF loan>=4285.38691174949 THEN default=1 \n",
      "IF income>=26617.0303151011 THEN default=0 \n",
      "IF income>=25640.0788831525 THEN default=1 \n",
      "IF income>=24857.6948815025 THEN default=0 \n",
      "IF income>=22832.3239297606 THEN default=1 \n",
      "IF income<=22089.8374845274 THEN default=0 \n",
      "IF TRUE THEN default=0 \n"
     ]
    }
   ],
   "source": [
    "for regras in regras_credit.rule_list:\n",
    "    print(regras)"
   ]
  },
  {
   "cell_type": "code",
   "execution_count": 25,
   "id": "60cc7619",
   "metadata": {},
   "outputs": [],
   "source": [
    "previsoes_credit = Orange.evaluation.testing.TestOnTestData(base_treinamento, base_teste, [lambda testdata: regras_credit])"
   ]
  },
  {
   "cell_type": "code",
   "execution_count": 27,
   "id": "4a2cebdf",
   "metadata": {},
   "outputs": [
    {
     "data": {
      "text/plain": [
       "<Orange.evaluation.testing.Results at 0x7fed6d607520>"
      ]
     },
     "execution_count": 27,
     "metadata": {},
     "output_type": "execute_result"
    }
   ],
   "source": [
    "previsoes_credit"
   ]
  },
  {
   "cell_type": "code",
   "execution_count": 28,
   "id": "46cd4108",
   "metadata": {},
   "outputs": [
    {
     "data": {
      "text/plain": [
       "array([0.974])"
      ]
     },
     "execution_count": 28,
     "metadata": {},
     "output_type": "execute_result"
    }
   ],
   "source": [
    "Orange.evaluation.CA(previsoes_credit)"
   ]
  },
  {
   "cell_type": "markdown",
   "id": "63698592",
   "metadata": {},
   "source": [
    "    Base Census"
   ]
  },
  {
   "cell_type": "code",
   "execution_count": 4,
   "id": "13a30e14",
   "metadata": {},
   "outputs": [],
   "source": [
    "base_census = Orange.data.Table('./assets/census_regras.csv')"
   ]
  },
  {
   "cell_type": "code",
   "execution_count": 31,
   "id": "5431f245",
   "metadata": {},
   "outputs": [
    {
     "data": {
      "text/plain": [
       "[age, workclass, final-weight, education, education-num, marital-status, occupation, relationship, race, sex, capital-gain, capital-loos, hour-per-week, native-country | income]"
      ]
     },
     "execution_count": 31,
     "metadata": {},
     "output_type": "execute_result"
    }
   ],
   "source": [
    "base_census.domain"
   ]
  },
  {
   "cell_type": "code",
   "execution_count": 32,
   "id": "46eb55d4",
   "metadata": {},
   "outputs": [],
   "source": [
    "base_census_dividida = Orange.evaluation.testing.sample(base_census, n=0.25)"
   ]
  },
  {
   "cell_type": "code",
   "execution_count": 33,
   "id": "3f687d60",
   "metadata": {},
   "outputs": [],
   "source": [
    "base_census_treinamento = base_census_dividida[1]\n",
    "base_census_teste = base_census_dividida[0]"
   ]
  },
  {
   "cell_type": "code",
   "execution_count": 34,
   "id": "f29383ea",
   "metadata": {},
   "outputs": [],
   "source": [
    "regras_census = cn2(base_census_treinamento)"
   ]
  },
  {
   "cell_type": "code",
   "execution_count": 37,
   "id": "8c275369",
   "metadata": {},
   "outputs": [],
   "source": [
    "previsoes_census = Orange.evaluation.testing.TestOnTestData(base_census_treinamento, base_census_teste, [lambda testdata: regras_census])"
   ]
  },
  {
   "cell_type": "code",
   "execution_count": 38,
   "id": "1def2081",
   "metadata": {},
   "outputs": [
    {
     "data": {
      "text/plain": [
       "array([0.82469287])"
      ]
     },
     "execution_count": 38,
     "metadata": {},
     "output_type": "execute_result"
    }
   ],
   "source": [
    "Orange.evaluation.CA(previsoes_census)"
   ]
  },
  {
   "cell_type": "markdown",
   "id": "6febabdb",
   "metadata": {},
   "source": [
    "    Majority Learner"
   ]
  },
  {
   "cell_type": "code",
   "execution_count": 5,
   "id": "0f765aab",
   "metadata": {},
   "outputs": [
    {
     "data": {
      "text/plain": [
       "[income, age, loan | default]"
      ]
     },
     "execution_count": 5,
     "metadata": {},
     "output_type": "execute_result"
    }
   ],
   "source": [
    "base_credit.domain"
   ]
  },
  {
   "cell_type": "code",
   "execution_count": 6,
   "id": "491f7c9e",
   "metadata": {},
   "outputs": [],
   "source": [
    "majority_credit = Orange.classification.MajorityLearner()"
   ]
  },
  {
   "cell_type": "code",
   "execution_count": 7,
   "id": "9a000002",
   "metadata": {},
   "outputs": [],
   "source": [
    "previsoes_ml_credit = Orange.evaluation.testing.TestOnTestData(base_credit, base_credit, [majority_credit])"
   ]
  },
  {
   "cell_type": "code",
   "execution_count": 8,
   "id": "c57307e1",
   "metadata": {},
   "outputs": [
    {
     "data": {
      "text/plain": [
       "array([0.8585])"
      ]
     },
     "execution_count": 8,
     "metadata": {},
     "output_type": "execute_result"
    }
   ],
   "source": [
    "Orange.evaluation.CA(previsoes_ml_credit)"
   ]
  },
  {
   "cell_type": "code",
   "execution_count": 10,
   "id": "9989c57c",
   "metadata": {},
   "outputs": [],
   "source": [
    "#Census\n",
    "majority_census = Orange.classification.MajorityLearner()"
   ]
  },
  {
   "cell_type": "code",
   "execution_count": 11,
   "id": "74f820c8",
   "metadata": {},
   "outputs": [],
   "source": [
    "previsoes_ml_census = Orange.evaluation.testing.TestOnTestData(base_census, base_census, [majority_census])"
   ]
  },
  {
   "cell_type": "code",
   "execution_count": 12,
   "id": "8107494d",
   "metadata": {},
   "outputs": [
    {
     "data": {
      "text/plain": [
       "array([0.75919044])"
      ]
     },
     "execution_count": 12,
     "metadata": {},
     "output_type": "execute_result"
    }
   ],
   "source": [
    "Orange.evaluation.CA(previsoes_ml_census)"
   ]
  },
  {
   "cell_type": "code",
   "execution_count": null,
   "id": "7807bbcd",
   "metadata": {},
   "outputs": [],
   "source": []
  },
  {
   "cell_type": "code",
   "execution_count": null,
   "id": "fea8b60e",
   "metadata": {},
   "outputs": [],
   "source": []
  },
  {
   "cell_type": "code",
   "execution_count": null,
   "id": "51061e24",
   "metadata": {},
   "outputs": [],
   "source": []
  },
  {
   "cell_type": "code",
   "execution_count": null,
   "id": "74f5d4e3",
   "metadata": {},
   "outputs": [],
   "source": []
  },
  {
   "cell_type": "code",
   "execution_count": null,
   "id": "21e9fb36",
   "metadata": {},
   "outputs": [],
   "source": []
  }
 ],
 "metadata": {
  "kernelspec": {
   "display_name": "Python 3 (ipykernel)",
   "language": "python",
   "name": "python3"
  },
  "language_info": {
   "codemirror_mode": {
    "name": "ipython",
    "version": 3
   },
   "file_extension": ".py",
   "mimetype": "text/x-python",
   "name": "python",
   "nbconvert_exporter": "python",
   "pygments_lexer": "ipython3",
   "version": "3.8.10"
  }
 },
 "nbformat": 4,
 "nbformat_minor": 5
}
