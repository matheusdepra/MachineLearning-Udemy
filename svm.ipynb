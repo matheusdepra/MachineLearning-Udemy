{
 "cells": [
  {
   "cell_type": "markdown",
   "id": "84cf36e6",
   "metadata": {},
   "source": [
    "    Base credito"
   ]
  },
  {
   "cell_type": "code",
   "execution_count": 1,
   "id": "137c9926",
   "metadata": {},
   "outputs": [],
   "source": [
    "#Importante\n",
    "#Ver kernel e cost"
   ]
  },
  {
   "cell_type": "code",
   "execution_count": 7,
   "id": "a846c71f",
   "metadata": {},
   "outputs": [],
   "source": [
    "from sklearn.svm import SVC\n",
    "import pickle\n",
    "from sklearn.metrics import accuracy_score, classification_report\n",
    "from yellowbrick.classifier import ConfusionMatrix"
   ]
  },
  {
   "cell_type": "code",
   "execution_count": 4,
   "id": "9e0290fe",
   "metadata": {},
   "outputs": [],
   "source": [
    "with open( './assets/credit.pkl', 'rb') as f:\n",
    "    X_credit_treinamento, Y_credit_treinamento,    X_credit_teste, Y_credit_teste = pickle.load(f)"
   ]
  },
  {
   "cell_type": "code",
   "execution_count": 9,
   "id": "4eb63ba4",
   "metadata": {},
   "outputs": [
    {
     "data": {
      "text/plain": [
       "0.946"
      ]
     },
     "execution_count": 9,
     "metadata": {},
     "output_type": "execute_result"
    }
   ],
   "source": [
    "#Kernel linear\n",
    "svm_credit = SVC(kernel='linear', random_state=0, C = 1.0)\n",
    "svm_credit.fit(X_credit_treinamento, Y_credit_treinamento)\n",
    "previsoes_credit = svm_credit.predict(X_credit_teste)\n",
    "accuracy_score(Y_credit_teste, previsoes_credit)"
   ]
  },
  {
   "cell_type": "code",
   "execution_count": 10,
   "id": "f84731bd",
   "metadata": {},
   "outputs": [
    {
     "data": {
      "text/plain": [
       "0.968"
      ]
     },
     "execution_count": 10,
     "metadata": {},
     "output_type": "execute_result"
    }
   ],
   "source": [
    "#kernel poly\n",
    "svm_credit = SVC(kernel='poly', random_state=0, C = 1.0)\n",
    "svm_credit.fit(X_credit_treinamento, Y_credit_treinamento)\n",
    "previsoes_credit = svm_credit.predict(X_credit_teste)\n",
    "accuracy_score(Y_credit_teste, previsoes_credit)"
   ]
  },
  {
   "cell_type": "code",
   "execution_count": 11,
   "id": "32f6dcfd",
   "metadata": {},
   "outputs": [
    {
     "data": {
      "text/plain": [
       "0.838"
      ]
     },
     "execution_count": 11,
     "metadata": {},
     "output_type": "execute_result"
    }
   ],
   "source": [
    "#kernel sigmoid\n",
    "svm_credit = SVC(kernel='sigmoid', random_state=0, C = 1.0)\n",
    "svm_credit.fit(X_credit_treinamento, Y_credit_treinamento)\n",
    "previsoes_credit = svm_credit.predict(X_credit_teste)\n",
    "accuracy_score(Y_credit_teste, previsoes_credit)"
   ]
  },
  {
   "cell_type": "code",
   "execution_count": 12,
   "id": "392c1b40",
   "metadata": {},
   "outputs": [
    {
     "data": {
      "text/plain": [
       "0.982"
      ]
     },
     "execution_count": 12,
     "metadata": {},
     "output_type": "execute_result"
    }
   ],
   "source": [
    "#kernel rbf | c = 1\n",
    "svm_credit = SVC(kernel='rbf', random_state=0, C = 1.0)\n",
    "svm_credit.fit(X_credit_treinamento, Y_credit_treinamento)\n",
    "previsoes_credit = svm_credit.predict(X_credit_teste)\n",
    "accuracy_score(Y_credit_teste, previsoes_credit)"
   ]
  },
  {
   "cell_type": "code",
   "execution_count": 14,
   "id": "a3f4176f",
   "metadata": {},
   "outputs": [
    {
     "data": {
      "text/plain": [
       "0.988"
      ]
     },
     "execution_count": 14,
     "metadata": {},
     "output_type": "execute_result"
    }
   ],
   "source": [
    "#kernel rbf | c = 2\n",
    "svm_credit = SVC(kernel='rbf', random_state=0, C = 2.0)\n",
    "svm_credit.fit(X_credit_treinamento, Y_credit_treinamento)\n",
    "previsoes_credit = svm_credit.predict(X_credit_teste)\n",
    "accuracy_score(Y_credit_teste, previsoes_credit)"
   ]
  },
  {
   "cell_type": "code",
   "execution_count": 15,
   "id": "098a66e5",
   "metadata": {},
   "outputs": [
    {
     "data": {
      "text/plain": [
       "0.988"
      ]
     },
     "execution_count": 15,
     "metadata": {},
     "output_type": "execute_result"
    },
    {
     "data": {
      "image/png": "[encoded data removed]",
      "text/plain": [
       "<Figure size 576x396 with 1 Axes>"
      ]
     },
     "metadata": {},
     "output_type": "display_data"
    }
   ],
   "source": [
    "cm = ConfusionMatrix(svm_credit)\n",
    "cm.fit(X_credit_treinamento, Y_credit_treinamento)\n",
    "cm.score(X_credit_teste, Y_credit_teste)"
   ]
  },
  {
   "cell_type": "code",
   "execution_count": 16,
   "id": "26a8d09c",
   "metadata": {},
   "outputs": [
    {
     "name": "stdout",
     "output_type": "stream",
     "text": [
      "              precision    recall  f1-score   support\n",
      "\n",
      "           0       0.99      1.00      0.99       436\n",
      "           1       0.97      0.94      0.95        64\n",
      "\n",
      "    accuracy                           0.99       500\n",
      "   macro avg       0.98      0.97      0.97       500\n",
      "weighted avg       0.99      0.99      0.99       500\n",
      "\n"
     ]
    }
   ],
   "source": [
    "print(classification_report(Y_credit_teste, previsoes_credit))"
   ]
  },
  {
   "cell_type": "markdown",
   "id": "46822e59",
   "metadata": {},
   "source": [
    "    Base census"
   ]
  },
  {
   "cell_type": "code",
   "execution_count": 17,
   "id": "3bc3409a",
   "metadata": {},
   "outputs": [],
   "source": [
    "with open( './assets/census.pkl', 'rb') as f:\n",
    "    X_census_treinamento, Y_census_treinamento, X_census_teste, Y_census_teste = pickle.load(f)"
   ]
  },
  {
   "cell_type": "code",
   "execution_count": 18,
   "id": "7476cb8c",
   "metadata": {},
   "outputs": [
    {
     "data": {
      "text/plain": [
       "0.8507676560900717"
      ]
     },
     "execution_count": 18,
     "metadata": {},
     "output_type": "execute_result"
    }
   ],
   "source": [
    "#Kernel linear\n",
    "svm_census = SVC(kernel='linear', random_state=0, C = 1.0)\n",
    "svm_census.fit(X_census_treinamento, Y_census_treinamento)\n",
    "previsoes_census = svm_census.predict(X_census_teste)\n",
    "accuracy_score(Y_census_teste, previsoes_census)"
   ]
  },
  {
   "cell_type": "code",
   "execution_count": 19,
   "id": "6332d3df",
   "metadata": {},
   "outputs": [
    {
     "data": {
      "text/plain": [
       "0.8507676560900717"
      ]
     },
     "execution_count": 19,
     "metadata": {},
     "output_type": "execute_result"
    },
    {
     "data": {
      "image/png": "[encoded data removed]",
      "text/plain": [
       "<Figure size 576x396 with 1 Axes>"
      ]
     },
     "metadata": {},
     "output_type": "display_data"
    }
   ],
   "source": [
    "cm = ConfusionMatrix(svm_census)\n",
    "cm.fit(X_census_treinamento, Y_census_treinamento)\n",
    "cm.score(X_census_teste, Y_census_teste)"
   ]
  },
  {
   "cell_type": "code",
   "execution_count": 20,
   "id": "4b7baf41",
   "metadata": {},
   "outputs": [
    {
     "name": "stdout",
     "output_type": "stream",
     "text": [
      "              precision    recall  f1-score   support\n",
      "\n",
      "       <=50K       0.87      0.94      0.90      3693\n",
      "        >50K       0.75      0.58      0.66      1192\n",
      "\n",
      "    accuracy                           0.85      4885\n",
      "   macro avg       0.81      0.76      0.78      4885\n",
      "weighted avg       0.84      0.85      0.84      4885\n",
      "\n"
     ]
    }
   ],
   "source": [
    "print(classification_report(Y_census_teste, previsoes_census))"
   ]
  },
  {
   "cell_type": "code",
   "execution_count": null,
   "id": "4bcc9cb4",
   "metadata": {},
   "outputs": [],
   "source": []
  }
 ],
 "metadata": {
  "kernelspec": {
   "display_name": "Python 3 (ipykernel)",
   "language": "python",
   "name": "python3"
  },
  "language_info": {
   "codemirror_mode": {
    "name": "ipython",
    "version": 3
   },
   "file_extension": ".py",
   "mimetype": "text/x-python",
   "name": "python",
   "nbconvert_exporter": "python",
   "pygments_lexer": "ipython3",
   "version": "3.8.10"
  }
 },
 "nbformat": 4,
 "nbformat_minor": 5
}
